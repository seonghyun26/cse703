{
 "cells": [
  {
   "cell_type": "code",
   "execution_count": 55,
   "metadata": {},
   "outputs": [],
   "source": [
    "import pandas as pd\n",
    "UB = pd.read_csv('tailard_UB.csv')\n",
    "UB = pd.DataFrame(UB)"
   ]
  },
  {
   "cell_type": "code",
   "execution_count": 56,
   "metadata": {},
   "outputs": [],
   "source": [
    "from urllib.request import Request, urlopen\n",
    "import urllib.parse\n",
    "from bs4 import BeautifulSoup\n",
    "import numpy as np\n",
    "import requests\n",
    "\n",
    "headers = {\"User-Agent\": \"Mozilla/5.0 (Windows NT 10.0; Win64; x64) AppleWebKit/537.36 (KHTML, like Gecko) Chrome/107.0.0.0 Safari/537.36\"}"
   ]
  },
  {
   "cell_type": "code",
   "execution_count": 105,
   "metadata": {},
   "outputs": [],
   "source": [
    "for i in range(0, 1):\n",
    "    size_text = UB.iloc[i, 1]\n",
    "    size_list = size_text.rsplit('x', 1)\n",
    "    n_jobs = int(size_list[0])\n",
    "    n_mchs = int(size_list[1])\n",
    "\n",
    "    UB_temp = UB.iloc[i, 2]\n",
    "\n",
    "    # i_2d = str(i+1).zfill(2)\n",
    "    # url = 'https://optimizizer.com/solution.php?name=ta' + str(i_2d) + '&UB=' + str(UB_temp) + '&problemclass=ta' \n",
    "\n",
    "    # response = requests.get(url, headers=headers)\n",
    "    # html = response.text\n",
    "    # soup = BeautifulSoup(html, 'html.parser')\n",
    "\n",
    "    # nums = soup.get_text().rsplit(':', 1)[-1].rsplit(' back', 1)[0]\n",
    "    # table = list(map(int, nums.split(' ')))\n",
    "\n",
    "    # table_opt = np.array(table).reshape(n_jobs, n_mchs)\n",
    "    # print(table_opt)\n",
    "\n",
    "    target_url = 'http://mistic.heig-vd.ch/taillard/problemes.dir/ordonnancement.dir/jobshop.dir/tai15_15.txt'\n",
    "    response = requests.get(target_url)\n",
    "    data = response.text\n",
    "    soup2 = BeautifulSoup(data, 'html.parser')\n",
    "\n",
    "    numbs = soup2.get_text().rsplit('Times', 1)[1].rsplit('Machines')[0]\n",
    "    new_mch = numbs.replace('\\r\\n', '')[1:]\n",
    "    \n",
    "    table2 = list(map(int, new_mch.split()))\n",
    "\n",
    "    table_dur = np.array(table2).reshape(n_jobs, n_mchs)\n",
    "    print(table_dur)"
   ]
  },
  {
   "cell_type": "markdown",
   "metadata": {},
   "source": [
    "The ith row of each solution file represents the processing order of jobs on the ith machine\n",
    "(indexing of jobs starts from zero)"
   ]
  },
  {
   "cell_type": "code",
   "execution_count": 89,
   "metadata": {},
   "outputs": [
    {
     "data": {
      "text/plain": [
       "'35 78 79 65 53 14 93 70 14 90 95 49 36 85  1 83 41 22 29 52 71 16 93 54 63 12 85 62 45 30 60 43 71  2 50 37 86 81 60 57 66 24 98 92 69 14 59 35  6 25 57  1 44 94 30 95 93 51 52 16 96 39 75 98  2 38 69 32 95 63  4 11 50 95 78 73 28 43 47 57 88 33 13  7 49 23 38 21 99 72  3 80 67 93 91 31 52 64 83  2 90 64 16 18 25 23 30 22 54 68 63 89 95  5 37  5 42 17 54 46 44 59 87 62 51 55  3 40 26 18 15 18 72 35 60 27 14 77 24 55 67 59 19 29 33 88 30 91 11 11 67 94 50  2 83 19 29 37 58 32 38 99 88 49 70 60  7 81 82 58 83 16  1 69  7  3 84  8 12 93 92 81  4 78  9 78 75  5 50  8 44  4 60 94 74 32 88 31 68 31 10 45 75 82 51 55 99 44 84 22 12 35 64 17 42 46 65 74 96 28 86 95 93 67 56'"
      ]
     },
     "execution_count": 89,
     "metadata": {},
     "output_type": "execute_result"
    }
   ],
   "source": [
    "target_url = 'http://mistic.heig-vd.ch/taillard/problemes.dir/ordonnancement.dir/jobshop.dir/tai15_15.txt'\n",
    "response = requests.get(target_url)\n",
    "data = response.text\n",
    "soup2 = BeautifulSoup(data, 'html.parser')\n",
    "\n",
    "numbs = soup2.get_text().rsplit('Times', 1)[1].rsplit('Machines')[0]\n",
    "new_mch = numbs.replace('\\r\\n', '')[1:]\n",
    "new_mch"
   ]
  },
  {
   "cell_type": "code",
   "execution_count": null,
   "metadata": {},
   "outputs": [],
   "source": []
  }
 ],
 "metadata": {
  "kernelspec": {
   "display_name": "Python 3.10.6 ('gnn')",
   "language": "python",
   "name": "python3"
  },
  "language_info": {
   "codemirror_mode": {
    "name": "ipython",
    "version": 3
   },
   "file_extension": ".py",
   "mimetype": "text/x-python",
   "name": "python",
   "nbconvert_exporter": "python",
   "pygments_lexer": "ipython3",
   "version": "3.10.6"
  },
  "orig_nbformat": 4,
  "vscode": {
   "interpreter": {
    "hash": "2a87dd3cf759f9e034cf0d669544d3e2b8db3abf6107b037f6d41162ad5a1ee0"
   }
  }
 },
 "nbformat": 4,
 "nbformat_minor": 2
}
